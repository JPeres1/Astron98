{
 "cells": [
  {
   "cell_type": "code",
   "execution_count": 1,
   "id": "e964b264",
   "metadata": {},
   "outputs": [],
   "source": [
    "#Preamble\n",
    "\n",
    "\n",
    "import numpy as np\n"
   ]
  },
  {
   "cell_type": "code",
   "execution_count": 4,
   "id": "7055d0c9",
   "metadata": {},
   "outputs": [],
   "source": [
    "#Question 1: Find equal rows in an array\n",
    "def findEqual(arr):\n",
    "    arr=np.array(arr)\n",
    "    equal_rows = arr[(arr == arr[:, [0]]).all(axis=1)]\n",
    "\n",
    "    return equal_rows"
   ]
  },
  {
   "cell_type": "code",
   "execution_count": 3,
   "id": "1d6010b8",
   "metadata": {},
   "outputs": [
    {
     "name": "stdout",
     "output_type": "stream",
     "text": [
      "[[1 1 1]\n",
      " [2 2 2]]\n"
     ]
    }
   ],
   "source": [
    "#Question 1 check\n",
    "arr=np.array( [ [ 1 , 1 , 1 ] , [ 1 , 2 , 3 ] , [ 2 , 2 , 2 ] ] )\n",
    "repeats = findEqual(arr)\n",
    "print(repeats)\n",
    "#Checks out"
   ]
  },
  {
   "cell_type": "code",
   "execution_count": 8,
   "id": "fb49fbe0",
   "metadata": {},
   "outputs": [
    {
     "name": "stdout",
     "output_type": "stream",
     "text": [
      "[[1 0 1 0 1 0 1 0]\n",
      " [0 1 0 1 0 1 0 1]\n",
      " [1 0 1 0 1 0 1 0]\n",
      " [0 1 0 1 0 1 0 1]\n",
      " [1 0 1 0 1 0 1 0]\n",
      " [0 1 0 1 0 1 0 1]\n",
      " [1 0 1 0 1 0 1 0]\n",
      " [0 1 0 1 0 1 0 1]]\n"
     ]
    }
   ],
   "source": [
    "#Question 2: create an 8x8 chess pattern of 1s and 0s using slicing + striding methods\n",
    "\n",
    "#\n",
    "board = np.ones((8, 8), dtype=int)\n",
    "board[1::2, ::2] = 0\n",
    "board[::2, 1::2] = 0\n",
    "print(board)\n"
   ]
  },
  {
   "cell_type": "code",
   "execution_count": 27,
   "id": "2a39be96",
   "metadata": {},
   "outputs": [
    {
     "name": "stdout",
     "output_type": "stream",
     "text": [
      "['H e l l o', 'W o r l d', 'P y t h o n']\n",
      "['T E S T I N G']\n"
     ]
    }
   ],
   "source": [
    "#Question 3: return an array seperated by spaces\n",
    "\n",
    "\n",
    "def spaceArr(arr): \n",
    "    result_array = [\" \".join(list(word)) for word in arr]\n",
    "\n",
    "    return result_array\n",
    "# Print the result\n",
    "\n",
    "myarray = np.array([\"Hello\", \"World\", \"Python\"])\n",
    "myarray2= np.array([\"TESTING\"])\n",
    "\n",
    "spaceMyArr= spaceArr(myarray)\n",
    "spaceMyArr2= spaceArr(myarray2)\n",
    "\n",
    "print(spaceMyArr)\n",
    "print(spaceMyArr2)"
   ]
  },
  {
   "cell_type": "code",
   "execution_count": 18,
   "id": "83e101a7",
   "metadata": {},
   "outputs": [
    {
     "name": "stdout",
     "output_type": "stream",
     "text": [
      "[[3 2 1]\n",
      " [6 5 4]\n",
      " [9 8 7]]\n"
     ]
    }
   ],
   "source": [
    "#Question 4: Given a multidimensional matrix, sort the matrix along the columns\n",
    "\n",
    "\n",
    "# Sort the matrix along its columns\n",
    "def sortMatrix(arr):\n",
    "    sorted_matrix = np.sort(arr, axis=0)\n",
    "    return sorted_matrix\n",
    "# Print the sorted matrix\n",
    "matrix = np.array([[3, 2, 1],\n",
    "                  [6, 5, 4],\n",
    "                  [9, 8, 7]])\n",
    "sortedMatrix = sortMatrix(matrix)\n",
    "\n",
    "\n",
    "\n",
    "\n",
    "print(sortedMatrix)"
   ]
  },
  {
   "cell_type": "code",
   "execution_count": null,
   "id": "8cc6ce0d",
   "metadata": {},
   "outputs": [],
   "source": []
  }
 ],
 "metadata": {
  "kernelspec": {
   "display_name": "Python 3 (ipykernel)",
   "language": "python",
   "name": "python3"
  },
  "language_info": {
   "codemirror_mode": {
    "name": "ipython",
    "version": 3
   },
   "file_extension": ".py",
   "mimetype": "text/x-python",
   "name": "python",
   "nbconvert_exporter": "python",
   "pygments_lexer": "ipython3",
   "version": "3.11.4"
  }
 },
 "nbformat": 4,
 "nbformat_minor": 5
}
