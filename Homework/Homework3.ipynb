{
 "cells": [
  {
   "cell_type": "code",
   "execution_count": 2,
   "id": "7a4f3e7e",
   "metadata": {},
   "outputs": [
    {
     "name": "stdout",
     "output_type": "stream",
     "text": [
      "We're going to be exponentiating!\n",
      "Enter the base for the exponent:2\n",
      "Enter the power for the exponent:9\n",
      "512\n"
     ]
    }
   ],
   "source": [
    "print(\"We're going to be exponentiating!\")\n",
    "\n",
    "user_x_input = int(input(\"Enter the base for the exponent:\"))\n",
    "\n",
    "user_y_input = int(input(\"Enter the power for the exponent:\"))\n",
    "\n",
    "result = user_x_input**user_y_input\n",
    "\n",
    "print(result)"
   ]
  },
  {
   "cell_type": "code",
   "execution_count": 37,
   "id": "9a5fda4e",
   "metadata": {},
   "outputs": [
    {
     "name": "stdout",
     "output_type": "stream",
     "text": [
      "Minimum and Maximum: (1, 9)\n"
     ]
    }
   ],
   "source": [
    "def find_min_max(x):\n",
    "  \n",
    "    myMin = min(x)\n",
    "    myMax = max(x)\n",
    "    \n",
    "    return (myMin, myMax)\n",
    "\n",
    "numbers_list = [3,1,4,1,5,9]\n",
    "result = find_min_max(numbers_list)\n",
    "print(\"Minimum and Maximum:\", result)"
   ]
  },
  {
   "cell_type": "code",
   "execution_count": 12,
   "id": "5c5847c5",
   "metadata": {},
   "outputs": [
    {
     "name": "stdout",
     "output_type": "stream",
     "text": [
      "Enter year you want to verify for Leapyear-ness: 2009\n",
      "Not one!:(\n"
     ]
    }
   ],
   "source": [
    "def find_Leapyear(x):\n",
    "    if(x % 4 == 0 and (x % 100 != 0 or x % 400 == 0)):\n",
    "        return True\n",
    "    else:\n",
    "        return False\n",
    "year= int(input(\"Enter year you want to verify for Leapyear-ness: \"))\n",
    "if find_Leapyear(year):\n",
    "    print(\"Is a leap year homie\")\n",
    "else:\n",
    "        print(\"Not one!:(\")\n"
   ]
  },
  {
   "cell_type": "code",
   "execution_count": 2,
   "id": "f7f7fd1f",
   "metadata": {},
   "outputs": [
    {
     "name": "stdout",
     "output_type": "stream",
     "text": [
      "Enter height in METERS:3\n",
      "Enter weight in KILOGRAMS:9\n",
      "This is your BMI: 1.0\n"
     ]
    }
   ],
   "source": [
    "def bMI(x, y):\n",
    "\n",
    "    bmi = y/(x**2)\n",
    "    return bmi\n",
    "\n",
    "x = float(input(\"Enter height in METERS:\"))\n",
    "y = float(input(\"Enter weight in KILOGRAMS:\"))\n",
    "result = bMI(x, y)\n",
    "print(\"This is your BMI:\", result)"
   ]
  },
  {
   "cell_type": "code",
   "execution_count": 36,
   "id": "0fa8e4cd",
   "metadata": {},
   "outputs": [
    {
     "name": "stdout",
     "output_type": "stream",
     "text": [
      "Enter your digits to be rotated:4354574\n",
      "These are your rotated digits! 4435457\n"
     ]
    }
   ],
   "source": [
    "def rotatingDigits(x):\n",
    "    front = int(x % 10)\n",
    "    back = int(x // 10)\n",
    "    result = int(str(front)+str(back))\n",
    "    return result\n",
    "x = int(input(\"Enter your digits to be rotated:\"))\n",
    "result = rotatingDigits(x)\n",
    "print(\"These are your rotated digits!\", result)"
   ]
  },
  {
   "cell_type": "code",
   "execution_count": 4,
   "id": "3b4eda08",
   "metadata": {},
   "outputs": [
    {
     "name": "stdout",
     "output_type": "stream",
     "text": [
      "Minimum number is: 1\n",
      "Maximum number is: 9\n",
      "Maximum number is: 9\n",
      "Minimum number is: 1\n"
     ]
    }
   ],
   "source": [
    "def for_minimum(x):\n",
    "    minimum = x[0]\n",
    "    for num in x:\n",
    "        if num < minimum:\n",
    "            minimum = num\n",
    "    return minimum\n",
    "\n",
    "\n",
    "\n",
    "\n",
    "def for_maximum(x):\n",
    "    maximum = x[0]\n",
    "    for num in x:\n",
    "        if num > maximum:\n",
    "            maximum = num\n",
    "    return maximum\n",
    "\n",
    "\n",
    "\n",
    "def while_minimum(x):\n",
    "    minimum = x[0]\n",
    "    i=1\n",
    "    while i<len(x):\n",
    "        if x[i] < minimum:\n",
    "            minimum = x[i]\n",
    "        i += 1\n",
    "        \n",
    "    return minimum\n",
    "\n",
    "def while_maximum(x):\n",
    "    maximum = x[0]\n",
    "    i=1\n",
    "    while i <len(x):\n",
    "        if x[i] > maximum:\n",
    "            maximum = x[i]\n",
    "        i += 1\n",
    "        \n",
    "    return maximum\n",
    "\n",
    "\n",
    "numbers = [1,4,5,9,8,7,6,5,4,4,3,2,1]\n",
    "\n",
    "\n",
    "result= for_minimum(numbers)\n",
    "print (\"Minimum number is:\", result)\n",
    "\n",
    "result2= for_maximum(numbers)\n",
    "print (\"Maximum number is:\", result2)\n",
    "\n",
    "result3= while_maximum(numbers)\n",
    "print (\"Maximum number is:\", result3)\n",
    "\n",
    "result4= while_minimum(numbers)\n",
    "print (\"Minimum number is:\", result4)"
   ]
  },
  {
   "cell_type": "code",
   "execution_count": 21,
   "id": "b4560968",
   "metadata": {},
   "outputs": [
    {
     "name": "stdout",
     "output_type": "stream",
     "text": [
      "What word do you want me to count the vowels of?:UC Berkeley\n",
      "The vowel count is: 4\n"
     ]
    }
   ],
   "source": [
    "def vowel_counter(x):\n",
    "    counter = 0\n",
    "\n",
    "    for char in x:\n",
    "        if char == 'a':\n",
    "            counter += 1\n",
    "    \n",
    "        if char == 'e':\n",
    "            counter += 1\n",
    "            \n",
    "        if char == 'i':\n",
    "            counter += 1\n",
    "            \n",
    "        if char == 'o':\n",
    "            counter += 1\n",
    "            \n",
    "        if char == 'u':\n",
    "            counter += 1\n",
    "        \n",
    "        if char == 'A':\n",
    "            counter += 1\n",
    "    \n",
    "        if char == 'E':\n",
    "            counter += 1\n",
    "            \n",
    "        if char == 'I':\n",
    "            counter += 1\n",
    "            \n",
    "        if char == 'O':\n",
    "            counter += 1\n",
    "            \n",
    "        if char == 'U':\n",
    "            counter += 1\n",
    "            \n",
    "    \n",
    "    return counter\n",
    "\n",
    "vowelNumber = input(\"What word do you want me to count the vowels of?:\")\n",
    "count = vowel_counter(vowelNumber)\n",
    "print(\"The vowel count is:\", count)"
   ]
  },
  {
   "cell_type": "code",
   "execution_count": 32,
   "id": "c2df07e9",
   "metadata": {},
   "outputs": [
    {
     "name": "stdout",
     "output_type": "stream",
     "text": [
      "What number do you want the digital root of?:123456\n",
      "Digital root is: 21\n"
     ]
    }
   ],
   "source": [
    "def digital_root(x):\n",
    "    counter = 0\n",
    "    \n",
    "    \n",
    "    for char in x:\n",
    "        if char == '1':\n",
    "            counter += 1\n",
    "    \n",
    "        if char == '2':\n",
    "            counter += 2\n",
    "            \n",
    "        if char == '3':\n",
    "            counter += 3\n",
    "            \n",
    "        if char == '4':\n",
    "            counter += 4\n",
    "            \n",
    "        if char == '5':\n",
    "            counter += 5\n",
    "        \n",
    "        if char == '6':\n",
    "            counter += 6\n",
    "    \n",
    "        if char == '7':\n",
    "            counter += 7\n",
    "            \n",
    "        if char == '8':\n",
    "            counter += 8\n",
    "            \n",
    "        if char == '9':\n",
    "            counter += 9\n",
    "        \n",
    "    return counter\n",
    "            \n",
    "number= input(\"What number do you want the digital root of?:\")\n",
    "result= digital_root(number)\n",
    "print(\"Digital root is:\", result)"
   ]
  },
  {
   "cell_type": "code",
   "execution_count": null,
   "id": "578d5b1c",
   "metadata": {},
   "outputs": [],
   "source": []
  }
 ],
 "metadata": {
  "kernelspec": {
   "display_name": "Python 3 (ipykernel)",
   "language": "python",
   "name": "python3"
  },
  "language_info": {
   "codemirror_mode": {
    "name": "ipython",
    "version": 3
   },
   "file_extension": ".py",
   "mimetype": "text/x-python",
   "name": "python",
   "nbconvert_exporter": "python",
   "pygments_lexer": "ipython3",
   "version": "3.11.4"
  }
 },
 "nbformat": 4,
 "nbformat_minor": 5
}
