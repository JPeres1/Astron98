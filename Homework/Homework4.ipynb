{
 "cells": [
  {
   "cell_type": "code",
   "execution_count": null,
   "id": "c1a61d3f",
   "metadata": {},
   "outputs": [],
   "source": [
    "\"\"\"\n",
    "HW 4: Debugging and Lists\n",
    "\n",
    "Q1 Debugging\n",
    "\n",
    "Throughout this homework, whenever you encounter an error, we would like you to \n",
    "explain in a comment what it was and how you fixed it. You can write all these errors \n",
    "at any place in the file.\n"
   ]
  },
  {
   "cell_type": "code",
   "execution_count": 20,
   "id": "b9015ee2",
   "metadata": {},
   "outputs": [
    {
     "name": "stdout",
     "output_type": "stream",
     "text": [
      "[0, 1, 2, 3, 4, 5, 6, 7, 8, 9, 10, 11, 12, 13, 14, 15, 16, 17, 18, 19, 20, 21, 22, 23, 24, 25, 26, 27, 28, 29, 30, 31, 32, 33, 34, 35, 36, 37, 38, 39, 40, 41, 42, 43, 44, 45, 46, 47, 48, 49, 50]\n",
      "[0, 1, 4, 9, 16, 25, 36, 49, 64, 81, 100, 121, 144, 169, 196, 225, 256, 289, 324, 361, 400, 441, 484, 529, 576, 625, 676, 729, 784, 841, 900, 961, 1024, 1089, 1156, 1225, 1296, 1369, 1444, 1521, 1600, 1681, 1764, 1849, 1936, 2025, 2116, 2209, 2304, 2401, 2500]\n"
     ]
    }
   ],
   "source": [
    "\"\"\"\n",
    "Q2 List Slicing and Striding:\n",
    "\n",
    "Part 1: Create a variable (name it anything you want but make it descriptive!) that \n",
    "is assigned to a list with the numbers 0 to 50. You should not have to write each \n",
    "number manually.\n",
    "\"\"\"\n",
    "\n",
    "#myNum = [0:50] #This was the wrong way to approach this, invalid python syntax, below is correct way\n",
    "\n",
    "myNum = []\n",
    "for i in range(51):\n",
    "    myNum.append(i)\n",
    "    \n",
    "\"\"\"\"\n",
    "Part 2: Create a function that takes in a list and squares each element in the list.\n",
    "\"\"\"\n",
    "#def square(list):\n",
    "#        for i in list:\n",
    " #           i= i**2\n",
    "  #      return i\n",
    "#square(myNum)  Plenty of problems here, I didnt make an empty array for my values to go into\n",
    "\n",
    "def square_list(list_to_be_squared):\n",
    "    squared_list = [] #this is the open array to sort the values into\n",
    "    for i in list_to_be_squared: #prepping python to do the next action for every index\n",
    "        squared_list.append(i**2) #python is squaring the index from the initial list, and sorting into the empty list\n",
    "    return squared_list \n",
    "\n",
    "result = square_list(myNum)\n",
    "print(myNum) #verify we get 0-50\n",
    "print(result)#verify they're squared\n",
    "\n",
    "#this checks out!"
   ]
  },
  {
   "cell_type": "code",
   "execution_count": 23,
   "id": "2638b480",
   "metadata": {},
   "outputs": [
    {
     "name": "stdout",
     "output_type": "stream",
     "text": [
      "[1, 3, 5, 7, 9]\n",
      "[21, 23, 25, 27, 29]\n",
      "[1, 3, 5, 7, 9, 21, 23, 25, 27, 29]\n"
     ]
    }
   ],
   "source": [
    "\"\"\"\n",
    "Part 3: You are given two lists: listA and listB. listA contains the integers 1 through \n",
    "10 while listB contains the integers 20 through 30. Return a single, new list containing\n",
    "only the odd integers of both lists in sorted order.\n",
    "\"\"\"\n",
    "\n",
    "listA = [1, 2, 3, 4, 5, 6, 7, 8, 9, 10]\n",
    "listB = [20, 21, 22, 23, 24, 25, 26, 27, 28, 29, 30]\n",
    "\n",
    "#here what I plan to do is remove the positive integers from each array, and concatenate the products.\n",
    "#listA_odd= listA[1::2] #This one didn't work because the 1 index started on an even number\n",
    "#listB_odd= listB[1::2] #This worked because the 1 index started at an odd number\n",
    "#listC= listA_odd+listB_odd\n",
    "#print(listA_odd)\n",
    "#print(listB_odd)\n",
    "#print(listC)\n",
    "\n",
    "\n",
    "listA_odd= listA[0::2] \n",
    "listB_odd= listB[1::2] #This worked because the 1 index started at an odd number\n",
    "listC= listA_odd+listB_odd\n",
    "print(listA_odd)\n",
    "print(listB_odd)\n",
    "print(listC)\n",
    "\n",
    "#code works as intended!"
   ]
  },
  {
   "cell_type": "code",
   "execution_count": 14,
   "id": "7af00ac8",
   "metadata": {},
   "outputs": [
    {
     "name": "stdout",
     "output_type": "stream",
     "text": [
      "1\t3\t5\t7\t9\t\n",
      "11\t13\t15\t17\t19\t\n",
      "21\t25\t1\t3\t5\t\n",
      "7\t9\t11\t13\t15\t\n",
      "17\t19\t21\t25\t1\t\n"
     ]
    }
   ],
   "source": [
    "\"\"\"\n",
    "Q3 2D Lists\n",
    "Using nested for loops, create and print a 5x5 2D list with the odd numbers from 1 to 25.\n",
    "\"\"\"\n",
    "\n",
    "# Q3 PART 1 CODE HERE\n",
    "#list_2D = #COMPLETE\n",
    "#Hint: Outer loop will manage row indices, inner loop will manage column indices (or vice \n",
    "# versa).\n",
    "#for #####:\n",
    " #   for #####:\n",
    "        ######\n",
    "\n",
    "#print()\n",
    "\n",
    "# make an empty 5x5 2D list\n",
    "list_2D = [[0 for _ in range(5)] for _ in range(5)]\n",
    "#keep count of odd number\n",
    "odd_number = 1\n",
    "for i in range(5):\n",
    "    for j in range(5):\n",
    "        list_2D[i][j] = odd_number\n",
    "        if odd_number <= 23:\n",
    "            list_2D[i][j] = odd_number\n",
    "            odd_number += 2\n",
    "        if odd_number == 25:\n",
    "            list_2D[i][j] = 25\n",
    "            odd_number = 1\n",
    "            \n",
    "\n",
    "for row in list_2D:\n",
    "    for num in row:\n",
    "        print(num, end=\"\\t\")\n",
    "    print()\n"
   ]
  },
  {
   "cell_type": "code",
   "execution_count": 4,
   "id": "4f16dd17",
   "metadata": {},
   "outputs": [
    {
     "name": "stdout",
     "output_type": "stream",
     "text": [
      "\n",
      "\n",
      "\n",
      "\n",
      "\n",
      "\n",
      "\n",
      "\n",
      "1\t?\t5\t7\t?\t\n",
      "11\t13\t?\t17\t19\t\n",
      "?\t25\t1\t?\t5\t\n",
      "7\t?\t11\t13\t?\t\n",
      "17\t19\t?\t25\t1\t\n"
     ]
    }
   ],
   "source": [
    "\"\"\"\n",
    "Now with your completed list_2D, replace all multiples of 3 with '?' character and print\n",
    "the resulting 2D list.\n",
    "\"\"\"\n",
    "\n",
    "# Q3 PART 2 CODE HERE\n",
    "#What conditional can you use to check if numbers are multiples?\n",
    "# Replace multiples of 3 with '?'\n",
    "list_2D = [[0 for _ in range(5)] for _ in range(5)]\n",
    "#keep count of odd number\n",
    "odd_number = 1\n",
    "for i in range(5):\n",
    "    for j in range(5):\n",
    "        list_2D[i][j] = odd_number\n",
    "        if odd_number <= 23:\n",
    "            list_2D[i][j] = odd_number\n",
    "            odd_number += 2\n",
    "        if odd_number == 25:\n",
    "            list_2D[i][j] = 25\n",
    "            odd_number = 1    \n",
    "        if list_2D[i][j] % 3 == 0:\n",
    "            list_2D[i][j] = '?'\n",
    "            print()   \n",
    "\n",
    "for row in list_2D:\n",
    "    for num in row:\n",
    "        print(num, end=\"\\t\")\n",
    "    print()\n"
   ]
  },
  {
   "cell_type": "code",
   "execution_count": 5,
   "id": "022bf3d5",
   "metadata": {},
   "outputs": [
    {
     "ename": "NameError",
     "evalue": "name 'test' is not defined",
     "output_type": "error",
     "traceback": [
      "\u001b[1;31m---------------------------------------------------------------------------\u001b[0m",
      "\u001b[1;31mNameError\u001b[0m                                 Traceback (most recent call last)",
      "Cell \u001b[1;32mIn[5], line 16\u001b[0m\n\u001b[0;32m     13\u001b[0m     unique_list \u001b[38;5;241m=\u001b[39m \u001b[38;5;28mlist\u001b[39m(unique_set)\n\u001b[0;32m     15\u001b[0m     \u001b[38;5;28;01mreturn\u001b[39;00m unique_list\n\u001b[1;32m---> 16\u001b[0m remove_duplicates(test)\n\u001b[0;32m     17\u001b[0m \u001b[38;5;28mprint\u001b[39m(test)\n\u001b[0;32m     19\u001b[0m \u001b[38;5;66;03m#It may be helpful to create an array to test your function.\u001b[39;00m\n",
      "\u001b[1;31mNameError\u001b[0m: name 'test' is not defined"
     ]
    }
   ],
   "source": [
    "\"\"\"\n",
    "Q4 More List Practice\n",
    "\n",
    "Write a function that takes in a list and returns a copy of that list with duplicate \n",
    "values removed.\n",
    "\"\"\"\n",
    "\n",
    "def remove_duplicates(input_list):\n",
    "    # Convert the list to a set to remove duplicates\n",
    "    unique_set = set(input_list)\n",
    "    \n",
    "    # Convert the set back to a list\n",
    "    unique_list = list(unique_set)\n",
    "    \n",
    "    return unique_list\n",
    "remove_duplicates(test)\n",
    "print(test)\n",
    "\n",
    "#It may be helpful to create an array to test your function.\n",
    "test = [40, 10, 80, 50, 20, 60, 30]"
   ]
  },
  {
   "cell_type": "code",
   "execution_count": null,
   "id": "e9323ab2",
   "metadata": {},
   "outputs": [],
   "source": []
  }
 ],
 "metadata": {
  "kernelspec": {
   "display_name": "Python 3 (ipykernel)",
   "language": "python",
   "name": "python3"
  },
  "language_info": {
   "codemirror_mode": {
    "name": "ipython",
    "version": 3
   },
   "file_extension": ".py",
   "mimetype": "text/x-python",
   "name": "python",
   "nbconvert_exporter": "python",
   "pygments_lexer": "ipython3",
   "version": "3.11.4"
  }
 },
 "nbformat": 4,
 "nbformat_minor": 5
}
