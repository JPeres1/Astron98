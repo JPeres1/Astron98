{
 "cells": [
  {
   "cell_type": "code",
   "execution_count": 5,
   "id": "94dde802",
   "metadata": {},
   "outputs": [
    {
     "name": "stdout",
     "output_type": "stream",
     "text": [
      "who is the sickest foo?i dont know\n",
      "Juan is\n"
     ]
    }
   ],
   "source": [
    "def sickest(x):\n",
    "    print ('Juan is')\n",
    "\n",
    "x= input(\"who is the sickest foo?\")\n",
    "x=sickest(x)"
   ]
  },
  {
   "cell_type": "code",
   "execution_count": null,
   "id": "429b8441",
   "metadata": {},
   "outputs": [],
   "source": []
  }
 ],
 "metadata": {
  "kernelspec": {
   "display_name": "Python 3 (ipykernel)",
   "language": "python",
   "name": "python3"
  },
  "language_info": {
   "codemirror_mode": {
    "name": "ipython",
    "version": 3
   },
   "file_extension": ".py",
   "mimetype": "text/x-python",
   "name": "python",
   "nbconvert_exporter": "python",
   "pygments_lexer": "ipython3",
   "version": "3.11.4"
  }
 },
 "nbformat": 4,
 "nbformat_minor": 5
}
