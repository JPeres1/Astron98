{
 "cells": [
  {
   "cell_type": "code",
   "execution_count": 10,
   "id": "98692dbe",
   "metadata": {},
   "outputs": [
    {
     "name": "stdout",
     "output_type": "stream",
     "text": [
      "cat\n"
     ]
    }
   ],
   "source": [
    "class Animal:\n",
    "    def __init__(self, species, name, age):\n",
    "        self.species= species #string\n",
    "        self.name = name #string\n",
    "        self.age = age #number\n",
    "    def eat(self):\n",
    "        print(self.name, \"is eating\")\n",
    "    def make_noise(self, noise):\n",
    "        print(self.name, \"is making noise:\", noise)\n",
    "        \n",
    "    def rename(self, new_name):\n",
    "        self.name=new_name\n",
    "class Tardigrade(Animal):\n",
    "    def __init__(self, species, name, age, habitat):\n",
    "        super().__init__(species, name, age)\n",
    "        self.habitat=habitat\n",
    "    def sit_there(self):\n",
    "        print(self.name, \"is sitting there\")\n",
    "        \n",
    "    def colonize(self):\n",
    "        print(self.name, \"has colonized\", habitat)\n",
    "    \n",
    "cat= Animal(\"cat\",\"Prince\", 1.5)\n",
    "print(cat.species)"
   ]
  },
  {
   "cell_type": "code",
   "execution_count": 7,
   "id": "ad571c89",
   "metadata": {},
   "outputs": [
    {
     "name": "stdout",
     "output_type": "stream",
     "text": [
      "Princess\n"
     ]
    }
   ],
   "source": [
    "cat.rename(\"Princess\")\n",
    "print(cat.name)"
   ]
  },
  {
   "cell_type": "code",
   "execution_count": 8,
   "id": "b4d2be17",
   "metadata": {},
   "outputs": [
    {
     "name": "stdout",
     "output_type": "stream",
     "text": [
      "Princess is making noise: nyah\n"
     ]
    }
   ],
   "source": [
    "cat.make_noise(\"nyah\")"
   ]
  },
  {
   "cell_type": "code",
   "execution_count": 11,
   "id": "0b357cf3",
   "metadata": {},
   "outputs": [
    {
     "name": "stdout",
     "output_type": "stream",
     "text": [
      "Hydrothermic vents\n"
     ]
    }
   ],
   "source": [
    "greag = Tardigrade(\"tardigrade\", \"greag\", 4000, \"Hydrothermic vents\")\n",
    "\n",
    "print(greag.habitat)"
   ]
  },
  {
   "cell_type": "code",
   "execution_count": 12,
   "id": "8421920e",
   "metadata": {},
   "outputs": [
    {
     "name": "stdout",
     "output_type": "stream",
     "text": [
      "greag is making noise: Hello, I am greag\n",
      "None\n"
     ]
    }
   ],
   "source": [
    "print(greag.make_noise(\"Hello, I am greag\"))"
   ]
  },
  {
   "cell_type": "code",
   "execution_count": 3,
   "id": "813f3c49",
   "metadata": {},
   "outputs": [],
   "source": [
    "class Book:\n",
    "    def __init__(self, title, isbn, author, available_copies):\n",
    "        self.name= name\n",
    "        self.title= title\n",
    "        self.isbn= isbn\n",
    "        self.author= author\n",
    "        self.available_copies=available_copies"
   ]
  },
  {
   "cell_type": "code",
   "execution_count": 5,
   "id": "0eb806ee",
   "metadata": {},
   "outputs": [],
   "source": [
    "class Author:\n",
    "    def __init__(self, name, birth_year):\n",
    "        self.name= name\n",
    "        self.birth_year= birth_year"
   ]
  },
  {
   "cell_type": "code",
   "execution_count": null,
   "id": "7e0bf503",
   "metadata": {},
   "outputs": [],
   "source": [
    "class Library:\n",
    "    def __init__(self, books):\n",
    "        self.books=books\n",
    "       \n",
    "    def add_books(self, book):\n",
    "        self.books = self.books.append(book)\n",
    "    \n",
    "    def search_books_by_author(self, author_name):\n",
    "        same_author=[]\n",
    "        i=0\n",
    "        while i<len(self.books):\n",
    "            if self.books[i].author == author_name:\n",
    "                same_author= same_author.append(self.books(i))\n",
    "            i+=1\n",
    "    "
   ]
  }
 ],
 "metadata": {
  "kernelspec": {
   "display_name": "Python 3 (ipykernel)",
   "language": "python",
   "name": "python3"
  },
  "language_info": {
   "codemirror_mode": {
    "name": "ipython",
    "version": 3
   },
   "file_extension": ".py",
   "mimetype": "text/x-python",
   "name": "python",
   "nbconvert_exporter": "python",
   "pygments_lexer": "ipython3",
   "version": "3.11.4"
  }
 },
 "nbformat": 4,
 "nbformat_minor": 5
}
